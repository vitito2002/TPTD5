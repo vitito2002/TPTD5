{
 "cells": [
  {
   "cell_type": "code",
   "execution_count": null,
   "metadata": {},
   "outputs": [],
   "source": [
    "def plot_pwl(solution, color='g'):\n",
    "    for i in range(solution['n'] - 1):\n",
    "        plt.plot([solution['x'][i], solution['x'][i+1]], [solution['y'][i], solution['y'][i+1]],color=color)\n",
    "\n",
    "\n",
    "def plot_data(data, color='k'):\n",
    "    plt.plot(data['x'], data['y'],'.', color=color)"
   ]
  },
  {
   "cell_type": "code",
   "execution_count": null,
   "metadata": {},
   "outputs": [],
   "source": [
    "import json\n",
    "from matplotlib import pyplot as plt\n",
    "import numpy as np\n",
    "import copy\n",
    "\n",
    "%matplotlib inline\n",
    "\n",
    "# input file\n",
    "instance_name = 'titanium.json'\n",
    "in_file = '../../data/' + instance_name\n",
    "solution_file = 'solution_' + instance_name\n",
    "\n",
    "# parametros basicos\n",
    "m = 6\n",
    "n = 6\n",
    "N = 5\n",
    "\n",
    "with open(in_file) as json_file:\n",
    "    data = json.load(json_file)\n",
    "\n",
    "    \n",
    "with open(solution_file) as json_file:\n",
    "    solution = json.load(json_file)\n",
    "\n",
    "# Agrega grid lines al grafico\n",
    "grid_x = np.linspace(min(data[\"x\"]), max(data[\"x\"]), num=m, endpoint=True)\n",
    "grid_y = np.linspace(min(data[\"y\"]), max(data[\"y\"]), num=n, endpoint=True)    \n",
    "\n",
    "plt.grid(True, which='both', linestyle='--', linewidth=0.5, color='gray', alpha=0.7)\n",
    "plt.xticks(grid_x)\n",
    "plt.yticks(grid_y)\n",
    "\n",
    "plot_data(data)\n",
    "plot_pwl(solution,'g')\n",
    "\n",
    "plt.show()"
   ]
  },
  {
   "cell_type": "code",
   "execution_count": null,
   "metadata": {},
   "outputs": [],
   "source": [
    "files = ['aspen_simulation.json', 'ethanol_water_vle.json', 'titanium.json', 'optimistic_instance.json']\n",
    "\n",
    "for filename in files:\n",
    "    with open('../../data/' + filename) as json_file:\n",
    "        data = json.load(json_file)\n",
    "    print(filename, data['n'])\n",
    "    plt.grid(True, which='both', linestyle='--', linewidth=0.5, color='gray', alpha=0.7)\n",
    "    plot_data(data)\n",
    "    plt.show()"
   ]
  }
 ],
 "metadata": {
  "kernelspec": {
   "display_name": "Python 3 (ipykernel)",
   "language": "python",
   "name": "python3"
  },
  "language_info": {
   "codemirror_mode": {
    "name": "ipython",
    "version": 3
   },
   "file_extension": ".py",
   "mimetype": "text/x-python",
   "name": "python",
   "nbconvert_exporter": "python",
   "pygments_lexer": "ipython3",
   "version": "3.9.12"
  }
 },
 "nbformat": 4,
 "nbformat_minor": 2
}
